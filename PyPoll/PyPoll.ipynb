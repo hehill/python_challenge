{
    "cells": [
        {
            "cell_type": "code",
            "execution_count": 17,
            "source": [
                "import os\r\n",
                "import pandas as pd"
            ],
            "outputs": [],
            "metadata": {}
        },
        {
            "cell_type": "code",
            "execution_count": 18,
            "source": [
                "cwd = os.getcwd()\r\n",
                "file_path = os.path.join(cwd, \"PyPoll\", \"Resources\", \"election_data.csv\")\r\n",
                "df = pd.read_csv(file_path)"
            ],
            "outputs": [],
            "metadata": {}
        },
        {
            "cell_type": "code",
            "execution_count": 19,
            "source": [
                "votes_tot = df[\"Voter ID\"].nunique()"
            ],
            "outputs": [],
            "metadata": {}
        },
        {
            "cell_type": "code",
            "execution_count": 22,
            "source": [
                "cand_votes = pd.DataFrame(df[\"Candidate\"].value_counts())\r\n",
                "cand_votes = cand_votes.reset_index().rename(columns = {\"index\" : \"Candidate_Name\", \"Candidate\" : \"Vote_Count\"})\r\n",
                "print(cand_votes)\r\n"
            ],
            "outputs": [
                {
                    "output_type": "stream",
                    "name": "stdout",
                    "text": [
                        "  Candidate_Name  Vote_Count\n",
                        "0           Khan     2218231\n",
                        "1         Correy      704200\n",
                        "2             Li      492940\n",
                        "3       O'Tooley      105630\n"
                    ]
                }
            ],
            "metadata": {}
        },
        {
            "cell_type": "code",
            "execution_count": 28,
            "source": [
                "cand_votes[\"Percent of Total Votes\"] = round(cand_votes[\"Vote_Count\"]/votes_tot,3) * 100\r\n",
                "cand_votes[\"Percent of Total Votes\"] = cand_votes[\"Percent of Total Votes\"].map(\"{:.1f}%\".format)\r\n",
                "print(cand_votes)"
            ],
            "outputs": [
                {
                    "output_type": "stream",
                    "name": "stdout",
                    "text": [
                        "  Candidate_Name  Vote_Count Percent of Total Votes\n",
                        "0           Khan     2218231                  63.0%\n",
                        "1         Correy      704200                  20.0%\n",
                        "2             Li      492940                  14.0%\n",
                        "3       O'Tooley      105630                   3.0%\n"
                    ]
                }
            ],
            "metadata": {}
        },
        {
            "cell_type": "code",
            "execution_count": 32,
            "source": [
                "winner = cand_votes.loc[cand_votes[\"Vote_Count\"] == max(cand_votes[\"Vote_Count\"]), \"Candidate_Name\"][0]\r\n",
                "print(winner)"
            ],
            "outputs": [
                {
                    "output_type": "stream",
                    "name": "stdout",
                    "text": [
                        "Khan\n"
                    ]
                }
            ],
            "metadata": {}
        }
    ],
    "metadata": {
        "orig_nbformat": 4,
        "language_info": {
            "name": "python",
            "version": "3.8.8",
            "mimetype": "text/x-python",
            "codemirror_mode": {
                "name": "ipython",
                "version": 3
            },
            "pygments_lexer": "ipython3",
            "nbconvert_exporter": "python",
            "file_extension": ".py"
        },
        "kernelspec": {
            "name": "python3",
            "display_name": "Python 3.8.8 64-bit ('base': conda)"
        },
        "interpreter": {
            "hash": "a8894775e8aeee242aa6e141c386e0510b6f2108a9b3d20c3f118f8cb925642c"
        }
    },
    "nbformat": 4,
    "nbformat_minor": 2
}