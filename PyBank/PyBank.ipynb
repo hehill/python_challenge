{
 "cells": [
  {
   "cell_type": "code",
   "execution_count": 28,
   "source": [
    "import os\r\n",
    "import pandas as pd\r\n",
    "\r\n",
    "cwd = os.getcwd()\r\n",
    "file_path = os.path.join(cwd, \"PyBank\", \"Resources\", \"budget_data.csv\")\r\n",
    "df = pd.read_csv(file_path)"
   ],
   "outputs": [],
   "metadata": {}
  },
  {
   "cell_type": "code",
   "execution_count": 29,
   "source": [
    "months = df[\"Date\"].nunique()\r\n",
    "months"
   ],
   "outputs": [
    {
     "output_type": "execute_result",
     "data": {
      "text/plain": [
       "86"
      ]
     },
     "metadata": {},
     "execution_count": 29
    }
   ],
   "metadata": {}
  },
  {
   "cell_type": "code",
   "execution_count": 30,
   "source": [
    "net = df[\"Profit/Losses\"].sum()\r\n",
    "net"
   ],
   "outputs": [
    {
     "output_type": "execute_result",
     "data": {
      "text/plain": [
       "38382578"
      ]
     },
     "metadata": {},
     "execution_count": 30
    }
   ],
   "metadata": {}
  },
  {
   "cell_type": "code",
   "execution_count": 31,
   "source": [
    "change = []\r\n",
    "for i in range(months):\r\n",
    "    if i == 0:\r\n",
    "        delta = 0\r\n",
    "        change.append(delta)\r\n",
    "    else:\r\n",
    "        current_pl = df.iloc[i,1]\r\n",
    "        past_pl = df.iloc[(i-1),1]\r\n",
    "        delta = current_pl - past_pl\r\n",
    "        change.append(delta)\r\n",
    "df[\"Change\"] = change\r\n",
    "df.head()"
   ],
   "outputs": [
    {
     "output_type": "execute_result",
     "data": {
      "text/plain": [
       "       Date  Profit/Losses  Change\n",
       "0  Jan-2010         867884       0\n",
       "1  Feb-2010         984655  116771\n",
       "2  Mar-2010         322013 -662642\n",
       "3  Apr-2010         -69417 -391430\n",
       "4  May-2010         310503  379920"
      ],
      "text/html": [
       "<div>\n",
       "<style scoped>\n",
       "    .dataframe tbody tr th:only-of-type {\n",
       "        vertical-align: middle;\n",
       "    }\n",
       "\n",
       "    .dataframe tbody tr th {\n",
       "        vertical-align: top;\n",
       "    }\n",
       "\n",
       "    .dataframe thead th {\n",
       "        text-align: right;\n",
       "    }\n",
       "</style>\n",
       "<table border=\"1\" class=\"dataframe\">\n",
       "  <thead>\n",
       "    <tr style=\"text-align: right;\">\n",
       "      <th></th>\n",
       "      <th>Date</th>\n",
       "      <th>Profit/Losses</th>\n",
       "      <th>Change</th>\n",
       "    </tr>\n",
       "  </thead>\n",
       "  <tbody>\n",
       "    <tr>\n",
       "      <th>0</th>\n",
       "      <td>Jan-2010</td>\n",
       "      <td>867884</td>\n",
       "      <td>0</td>\n",
       "    </tr>\n",
       "    <tr>\n",
       "      <th>1</th>\n",
       "      <td>Feb-2010</td>\n",
       "      <td>984655</td>\n",
       "      <td>116771</td>\n",
       "    </tr>\n",
       "    <tr>\n",
       "      <th>2</th>\n",
       "      <td>Mar-2010</td>\n",
       "      <td>322013</td>\n",
       "      <td>-662642</td>\n",
       "    </tr>\n",
       "    <tr>\n",
       "      <th>3</th>\n",
       "      <td>Apr-2010</td>\n",
       "      <td>-69417</td>\n",
       "      <td>-391430</td>\n",
       "    </tr>\n",
       "    <tr>\n",
       "      <th>4</th>\n",
       "      <td>May-2010</td>\n",
       "      <td>310503</td>\n",
       "      <td>379920</td>\n",
       "    </tr>\n",
       "  </tbody>\n",
       "</table>\n",
       "</div>"
      ]
     },
     "metadata": {},
     "execution_count": 31
    }
   ],
   "metadata": {}
  },
  {
   "cell_type": "code",
   "execution_count": 38,
   "source": [
    "average_change = round(df[\"Change\"].mean(),2)\r\n",
    "average_change"
   ],
   "outputs": [
    {
     "output_type": "execute_result",
     "data": {
      "text/plain": [
       "-2288.2"
      ]
     },
     "metadata": {},
     "execution_count": 38
    }
   ],
   "metadata": {}
  },
  {
   "cell_type": "code",
   "execution_count": 33,
   "source": [
    "increase_df = df.loc[df[\"Change\"] == df[\"Change\"].max(), [\"Date\", \"Change\"]]\r\n",
    "\r\n",
    "increase_date = increase_df.iloc[0,0]\r\n",
    "increase_change = increase_df.iloc[0,1]"
   ],
   "outputs": [],
   "metadata": {}
  },
  {
   "cell_type": "code",
   "execution_count": 34,
   "source": [
    "decrease_df = df.loc[df[\"Change\"] == df[\"Change\"].min(), [\"Date\", \"Change\"]]\r\n",
    "\r\n",
    "decrease_date = decrease_df.iloc[0,0]\r\n",
    "decrease_change = decrease_df.iloc[0,1]"
   ],
   "outputs": [],
   "metadata": {}
  },
  {
   "cell_type": "code",
   "execution_count": 35,
   "source": [
    "print(\"-----------------------------\")\r\n",
    "print(\"Financial Analysis\")\r\n",
    "print(\"-----------------------------\")\r\n",
    "print(f\"Total Months: {months}\")\r\n",
    "print(f\"Net Profits: {net}\")\r\n",
    "print(f\"Average Change: ${average_change}\")\r\n",
    "print(f\"Greatest Increase in Profits: {increase_date} (${increase_change})\")\r\n",
    "print(f\"Greatest Decrease in Profits: {decrease_date} (${decrease_change})\")"
   ],
   "outputs": [
    {
     "output_type": "stream",
     "name": "stdout",
     "text": [
      "-----------------------------\n",
      "Financial Analysis\n",
      "-----------------------------\n",
      "Total Months: 86\n",
      "Net Profits: 38382578\n",
      "Average Change: $-2288.2\n",
      "Greatest Increase in Profits: Feb-2012 ($1926159)\n",
      "Greatest Decrease in Profits: Sep-2013 ($-2196167)\n"
     ]
    }
   ],
   "metadata": {}
  }
 ],
 "metadata": {
  "orig_nbformat": 4,
  "language_info": {
   "name": "python",
   "version": "3.8.8",
   "mimetype": "text/x-python",
   "codemirror_mode": {
    "name": "ipython",
    "version": 3
   },
   "pygments_lexer": "ipython3",
   "nbconvert_exporter": "python",
   "file_extension": ".py"
  },
  "kernelspec": {
   "name": "python3",
   "display_name": "Python 3.8.8 64-bit ('base': conda)"
  },
  "interpreter": {
   "hash": "a8894775e8aeee242aa6e141c386e0510b6f2108a9b3d20c3f118f8cb925642c"
  }
 },
 "nbformat": 4,
 "nbformat_minor": 2
}